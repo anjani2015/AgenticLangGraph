{
 "cells": [
  {
   "cell_type": "markdown",
   "id": "2b054c66",
   "metadata": {},
   "source": [
    "## Build a basic ChatBot using LangGraph (GRAPH API)"
   ]
  },
  {
   "cell_type": "code",
   "execution_count": 112,
   "id": "8536ea3b",
   "metadata": {},
   "outputs": [],
   "source": [
    "from typing import Annotated\n",
    "from typing_extensions import TypedDict\n",
    "\n",
    "from langgraph.graph import StateGraph, START, END\n",
    "from langgraph.graph.message import add_messages"
   ]
  },
  {
   "cell_type": "code",
   "execution_count": 113,
   "id": "06e50237",
   "metadata": {},
   "outputs": [],
   "source": [
    "class State(TypedDict):\n",
    "    # Messages have the type \"list\". The add_messages function \n",
    "    #in the annotation defines how this state key should be updated\n",
    "    messages:Annotated[list,add_messages]\n"
   ]
  },
  {
   "cell_type": "code",
   "execution_count": 114,
   "id": "75981917",
   "metadata": {},
   "outputs": [
    {
     "data": {
      "text/plain": [
       "True"
      ]
     },
     "execution_count": 114,
     "metadata": {},
     "output_type": "execute_result"
    }
   ],
   "source": [
    "import os\n",
    "from dotenv import load_dotenv\n",
    "load_dotenv()"
   ]
  },
  {
   "cell_type": "code",
   "execution_count": 115,
   "id": "a0a1e9a5",
   "metadata": {},
   "outputs": [
    {
     "data": {
      "text/plain": [
       "ChatGroq(client=<groq.resources.chat.completions.Completions object at 0x7cfa531f05c0>, async_client=<groq.resources.chat.completions.AsyncCompletions object at 0x7cfa531f0ec0>, model_name='llama3-8b-8192', model_kwargs={}, groq_api_key=SecretStr('**********'))"
      ]
     },
     "execution_count": 115,
     "metadata": {},
     "output_type": "execute_result"
    }
   ],
   "source": [
    "from langchain_groq import ChatGroq\n",
    "from langchain.chat_models import init_chat_model\n",
    "\n",
    "llm = ChatGroq(model='llama3-8b-8192')\n",
    "llm"
   ]
  },
  {
   "cell_type": "code",
   "execution_count": 116,
   "id": "81173d93",
   "metadata": {},
   "outputs": [
    {
     "data": {
      "text/plain": [
       "ChatGroq(client=<groq.resources.chat.completions.Completions object at 0x7cfa531f0a10>, async_client=<groq.resources.chat.completions.AsyncCompletions object at 0x7cfa531e8f20>, model_name='llama3-8b-8192', model_kwargs={}, groq_api_key=SecretStr('**********'))"
      ]
     },
     "execution_count": 116,
     "metadata": {},
     "output_type": "execute_result"
    }
   ],
   "source": [
    "llm=init_chat_model(\"groq:llama3-8b-8192\")\n",
    "llm"
   ]
  },
  {
   "cell_type": "code",
   "execution_count": 117,
   "id": "26637629",
   "metadata": {},
   "outputs": [],
   "source": [
    "## Node Functionality\n",
    "def chatbot(state:State):\n",
    "    return{\"messages\":[llm.invoke(state[\"messages\"])]}"
   ]
  },
  {
   "cell_type": "code",
   "execution_count": 118,
   "id": "056104f8",
   "metadata": {},
   "outputs": [],
   "source": [
    "graph_builder = StateGraph(State)\n",
    "\n",
    "## Adding Node\n",
    "graph_builder.add_node(\"llmchatbot\",chatbot)\n",
    "\n",
    "## Adding Edges\n",
    "graph_builder.add_edge(START,\"llmchatbot\")\n",
    "graph_builder.add_edge(\"llmchatbot\",END)\n",
    "\n",
    "## Compile the GRAPH\n",
    "graph=graph_builder.compile()"
   ]
  },
  {
   "cell_type": "code",
   "execution_count": 119,
   "id": "703f6472",
   "metadata": {},
   "outputs": [
    {
     "data": {
      "image/png": "[encoded data removed]",
      "text/plain": [
       "<IPython.core.display.Image object>"
      ]
     },
     "metadata": {},
     "output_type": "display_data"
    }
   ],
   "source": [
    "## Visualize the graph\n",
    "from IPython.display import Image,display\n",
    "\n",
    "try:\n",
    "    display(Image(graph.get_graph().draw_mermaid_png()))\n",
    "except Exception:\n",
    "    pass"
   ]
  },
  {
   "cell_type": "code",
   "execution_count": 120,
   "id": "34fa787a",
   "metadata": {},
   "outputs": [],
   "source": [
    "response = graph.invoke({\"messages\":\"Hi\"})"
   ]
  },
  {
   "cell_type": "code",
   "execution_count": 121,
   "id": "930e6434",
   "metadata": {},
   "outputs": [
    {
     "data": {
      "text/plain": [
       "\"Hi! It's nice to meet you. Is there something I can help you with or would you like to chat?\""
      ]
     },
     "execution_count": 121,
     "metadata": {},
     "output_type": "execute_result"
    }
   ],
   "source": [
    "response[\"messages\"][-1].content"
   ]
  },
  {
   "cell_type": "code",
   "execution_count": 122,
   "id": "4684c976",
   "metadata": {},
   "outputs": [
    {
     "name": "stdout",
     "output_type": "stream",
     "text": [
      "I'm just a language model, I don't have emotions or feelings like humans do, so I don't have good or bad days. I'm always \"on\" and ready to assist you with any questions or tasks you may have! It's great to chat with you, though. How about you? How's your day going so far?\n"
     ]
    }
   ],
   "source": [
    "for event in graph.stream({\"messages\":\"Hi how are you doing today\"}):\n",
    "    for value in event.values():\n",
    "        print(value['messages'][-1].content)"
   ]
  },
  {
   "cell_type": "markdown",
   "id": "388109a4",
   "metadata": {},
   "source": [
    "## Chatbot With Tool"
   ]
  },
  {
   "cell_type": "code",
   "execution_count": 123,
   "id": "c1ce919c",
   "metadata": {},
   "outputs": [
    {
     "data": {
      "text/plain": [
       "{'query': 'Latest in AI field',\n",
       " 'follow_up_questions': None,\n",
       " 'answer': None,\n",
       " 'images': [],\n",
       " 'results': [{'title': 'AI News & Artificial Intelligence | TechCrunch',\n",
       "   'url': 'https://techcrunch.com/category/artificial-intelligence/',\n",
       "   'content': 'Read the latest on artificial intelligence and machine learning tech, the companies that are building them, and the ethical issues AI raises today.',\n",
       "   'score': 0.56489134,\n",
       "   'raw_content': None},\n",
       "  {'title': 'Artificial Intelligence News -- ScienceDaily',\n",
       "   'url': 'https://www.sciencedaily.com/news/computers_math/artificial_intelligence/',\n",
       "   'content': 'Artificial Intelligence News. Everything on AI including futuristic robots with artificial intelligence, computer models of human intelligence and more.',\n",
       "   'score': 0.47270843,\n",
       "   'raw_content': None}],\n",
       " 'response_time': 1.6}"
      ]
     },
     "execution_count": 123,
     "metadata": {},
     "output_type": "execute_result"
    }
   ],
   "source": [
    "from langchain_tavily import TavilySearch\n",
    "\n",
    "tool=TavilySearch(max_results=2)\n",
    "tool.invoke(\"Latest in AI field\")"
   ]
  },
  {
   "cell_type": "code",
   "execution_count": 124,
   "id": "008b69fb",
   "metadata": {},
   "outputs": [],
   "source": [
    "### Custom Tools\n",
    "def multiply(a:int, b:int)->int:\n",
    "    \"\"\"Multiply a and b\n",
    "\n",
    "    Args:\n",
    "        a (int): first int value\n",
    "        b (int): Secount int value\n",
    "\n",
    "    Returns:\n",
    "        out (int): final_output int value\n",
    "    \"\"\"\n",
    "    return a*b"
   ]
  },
  {
   "cell_type": "code",
   "execution_count": 125,
   "id": "6b1d388e",
   "metadata": {},
   "outputs": [
    {
     "data": {
      "text/plain": [
       "RunnableBinding(bound=ChatGroq(client=<groq.resources.chat.completions.Completions object at 0x7cfa531f0a10>, async_client=<groq.resources.chat.completions.AsyncCompletions object at 0x7cfa531e8f20>, model_name='llama3-8b-8192', model_kwargs={}, groq_api_key=SecretStr('**********')), kwargs={'tools': [{'type': 'function', 'function': {'name': 'tavily_search', 'description': 'A search engine optimized for comprehensive, accurate, and trusted results. Useful for when you need to answer questions about current events. It not only retrieves URLs and snippets, but offers advanced search depths, domain management, time range filters, and image search, this tool delivers real-time, accurate, and citation-backed results.Input should be a search query.', 'parameters': {'properties': {'query': {'description': 'Search query to look up', 'type': 'string'}, 'include_domains': {'anyOf': [{'items': {'type': 'string'}, 'type': 'array'}, {'type': 'null'}], 'default': [], 'description': 'A list of domains to restrict search results to.\\n\\n        Use this parameter when:\\n        1. The user explicitly requests information from specific websites (e.g., \"Find climate data from nasa.gov\")\\n        2. The user mentions an organization or company without specifying the domain (e.g., \"Find information about iPhones from Apple\")\\n\\n        In both cases, you should determine the appropriate domains (e.g., [\"nasa.gov\"] or [\"apple.com\"]) and set this parameter.\\n\\n        Results will ONLY come from the specified domains - no other sources will be included.\\n        Default is None (no domain restriction).\\n        '}, 'exclude_domains': {'anyOf': [{'items': {'type': 'string'}, 'type': 'array'}, {'type': 'null'}], 'default': [], 'description': 'A list of domains to exclude from search results.\\n\\n        Use this parameter when:\\n        1. The user explicitly requests to avoid certain websites (e.g., \"Find information about climate change but not from twitter.com\")\\n        2. The user mentions not wanting results from specific organizations without naming the domain (e.g., \"Find phone reviews but nothing from Apple\")\\n\\n        In both cases, you should determine the appropriate domains to exclude (e.g., [\"twitter.com\"] or [\"apple.com\"]) and set this parameter.\\n\\n        Results will filter out all content from the specified domains.\\n        Default is None (no domain exclusion).\\n        '}, 'search_depth': {'anyOf': [{'enum': ['basic', 'advanced'], 'type': 'string'}, {'type': 'null'}], 'default': 'basic', 'description': 'Controls search thoroughness and result comprehensiveness.\\n    \\n        Use \"basic\" for simple queries requiring quick, straightforward answers.\\n        \\n        Use \"advanced\" (default) for complex queries, specialized topics, \\n        rare information, or when in-depth analysis is needed.\\n        '}, 'include_images': {'anyOf': [{'type': 'boolean'}, {'type': 'null'}], 'default': False, 'description': 'Determines if the search returns relevant images along with text results.\\n   \\n        Set to True when the user explicitly requests visuals or when images would \\n        significantly enhance understanding (e.g., \"Show me what black holes look like,\" \\n        \"Find pictures of Renaissance art\").\\n        \\n        Leave as False (default) for most informational queries where text is sufficient.\\n        '}, 'time_range': {'anyOf': [{'enum': ['day', 'week', 'month', 'year'], 'type': 'string'}, {'type': 'null'}], 'default': None, 'description': 'Limits results to content published within a specific timeframe.\\n        \\n        ONLY set this when the user explicitly mentions a time period \\n        (e.g., \"latest AI news,\" \"articles from last week\").\\n        \\n        For less popular or niche topics, use broader time ranges \\n        (\"month\" or \"year\") to ensure sufficient relevant results.\\n   \\n        Options: \"day\" (24h), \"week\" (7d), \"month\" (30d), \"year\" (365d).\\n        \\n        Default is None.\\n        '}, 'topic': {'anyOf': [{'enum': ['general', 'news', 'finance'], 'type': 'string'}, {'type': 'null'}], 'default': 'general', 'description': 'Specifies search category for optimized results.\\n   \\n        Use \"general\" (default) for most queries, INCLUDING those with terms like \\n        \"latest,\" \"newest,\" or \"recent\" when referring to general information.\\n\\n        Use \"finance\" for markets, investments, economic data, or financial news.\\n\\n        Use \"news\" ONLY for politics, sports, or major current events covered by \\n        mainstream media - NOT simply because a query asks for \"new\" information.\\n        '}}, 'required': ['query'], 'type': 'object'}}}, {'type': 'function', 'function': {'name': 'multiply', 'description': 'Multiply a and b', 'parameters': {'properties': {'a': {'description': 'first int value', 'type': 'integer'}, 'b': {'description': 'Secount int value', 'type': 'integer'}}, 'required': ['a', 'b'], 'type': 'object'}}}]}, config={}, config_factories=[])"
      ]
     },
     "execution_count": 125,
     "metadata": {},
     "output_type": "execute_result"
    }
   ],
   "source": [
    "tools=[tool,multiply]\n",
    "llm_with_tools = llm.bind_tools(tools)\n",
    "llm_with_tools"
   ]
  },
  {
   "cell_type": "code",
   "execution_count": 126,
   "id": "c07a049d",
   "metadata": {},
   "outputs": [],
   "source": [
    "## Buildig a StateGraph\n",
    "from langgraph.graph import StateGraph, START, END\n",
    "from langgraph.prebuilt import ToolNode, tools_condition"
   ]
  },
  {
   "cell_type": "code",
   "execution_count": 127,
   "id": "f9569d91",
   "metadata": {},
   "outputs": [],
   "source": [
    "## Node definition\n",
    "def tool_calling_llm(state:State):\n",
    "    return{\"messages\":[llm_with_tools.invoke(state[\"messages\"])]}"
   ]
  },
  {
   "cell_type": "code",
   "execution_count": 128,
   "id": "51891988",
   "metadata": {},
   "outputs": [
    {
     "data": {
      "image/png": "[encoded data removed]",
      "text/plain": [
       "<IPython.core.display.Image object>"
      ]
     },
     "metadata": {},
     "output_type": "display_data"
    }
   ],
   "source": [
    "## Build a graph\n",
    "builder = StateGraph(State)\n",
    "\n",
    "## Add nodes\n",
    "builder.add_node(\"tool_calling_llm\",tool_calling_llm)\n",
    "builder.add_node(\"tools\",ToolNode(tools))\n",
    "\n",
    "## Add Edges\n",
    "builder.add_edge(START,\"tool_calling_llm\")\n",
    "builder.add_conditional_edges(\n",
    "    \"tool_calling_llm\",\n",
    "    # If the latest (message) from the assistant is a tool call -> tools_condition routes to tool\n",
    "    # If the latest (message) from the assistant is not a tool call -> tools_condition routes to END\n",
    "    tools_condition\n",
    ")\n",
    "builder.add_edge(\"tools\",END)\n",
    "\n",
    "## Compile the graph\n",
    "graph = builder.compile()\n",
    "\n",
    "display(Image(graph.get_graph().draw_mermaid_png()))\n"
   ]
  },
  {
   "cell_type": "code",
   "execution_count": 129,
   "id": "b8732c04",
   "metadata": {},
   "outputs": [
    {
     "data": {
      "text/plain": [
       "'{\"query\": \"Latest AI News\", \"follow_up_questions\": null, \"answer\": null, \"images\": [], \"results\": [{\"url\": \"https://www.ptechpartners.com/2025/07/01/emerging-ai-news-roundup-for-may-and-june-2025-part-1-ai-agents-jobs-impact-and-the-return-of-the-surge/\", \"title\": \"Emerging AI News Roundup for May and June 2025 Part 1\", \"content\": \"Explore the biggest AI news from May and June 2025, including breakthroughs in AI agents, the evolving impact on jobs, and a renewed surge in AI innovation.\", \"score\": 0.74961954, \"raw_content\": null}, {\"title\": \"AI is advancing even faster than sci-fi visionaries like Neal ...\", \"url\": \"https://www.yahoo.com/news/ai-advancing-even-faster-sci-123123199.html\", \"content\": \"Three recent developments in AI – in video games, wearable technology and education – reveal that building something like the Primer should no longer be considered the purview of science fiction.\\\\n\\\\nIn May 2025, the hit video game “Fortnite” introduced an AI version of Darth Vader, who speaks with the voice of the late James Earl Jones.\\\\n\\\\nOlder Black man wearing suit jacket poses on red carpet next to sinister-looking, costumed person wearing a black mask and black cape.\", \"score\": 0.6803909, \"raw_content\": null}], \"response_time\": 3.46}'"
      ]
     },
     "execution_count": 129,
     "metadata": {},
     "output_type": "execute_result"
    }
   ],
   "source": [
    "response = graph.invoke({\"messages\":\"What is the Latest AI News\"})\n",
    "response['messages'][-1].content"
   ]
  },
  {
   "cell_type": "code",
   "execution_count": 130,
   "id": "93237b61",
   "metadata": {},
   "outputs": [
    {
     "name": "stdout",
     "output_type": "stream",
     "text": [
      "================================\u001b[1m Human Message \u001b[0m=================================\n",
      "\n",
      "What is the Latest AI News\n",
      "==================================\u001b[1m Ai Message \u001b[0m==================================\n",
      "Tool Calls:\n",
      "  tavily_search (t8hpy7cpm)\n",
      " Call ID: t8hpy7cpm\n",
      "  Args:\n",
      "    exclude_domains: []\n",
      "    include_domains: []\n",
      "    include_images: False\n",
      "    query: Latest AI News\n",
      "    search_depth: advanced\n",
      "    time_range: day\n",
      "    topic: general\n",
      "=================================\u001b[1m Tool Message \u001b[0m=================================\n",
      "Name: tavily_search\n",
      "\n",
      "{\"query\": \"Latest AI News\", \"follow_up_questions\": null, \"answer\": null, \"images\": [], \"results\": [{\"url\": \"https://www.ptechpartners.com/2025/07/01/emerging-ai-news-roundup-for-may-and-june-2025-part-1-ai-agents-jobs-impact-and-the-return-of-the-surge/\", \"title\": \"Emerging AI News Roundup for May and June 2025 Part 1\", \"content\": \"Explore the biggest AI news from May and June 2025, including breakthroughs in AI agents, the evolving impact on jobs, and a renewed surge in AI innovation.\", \"score\": 0.74961954, \"raw_content\": null}, {\"title\": \"AI is advancing even faster than sci-fi visionaries like Neal ...\", \"url\": \"https://www.yahoo.com/news/ai-advancing-even-faster-sci-123123199.html\", \"content\": \"Three recent developments in AI – in video games, wearable technology and education – reveal that building something like the Primer should no longer be considered the purview of science fiction.\\n\\nIn May 2025, the hit video game “Fortnite” introduced an AI version of Darth Vader, who speaks with the voice of the late James Earl Jones.\\n\\nOlder Black man wearing suit jacket poses on red carpet next to sinister-looking, costumed person wearing a black mask and black cape.\", \"score\": 0.6803909, \"raw_content\": null}], \"response_time\": 3.46}\n"
     ]
    }
   ],
   "source": [
    "for msg in response['messages']:\n",
    "    msg.pretty_print()"
   ]
  },
  {
   "cell_type": "code",
   "execution_count": 131,
   "id": "3943bec1",
   "metadata": {},
   "outputs": [
    {
     "name": "stdout",
     "output_type": "stream",
     "text": [
      "================================\u001b[1m Human Message \u001b[0m=================================\n",
      "\n",
      "What is the 5 multiplation of 5\n",
      "==================================\u001b[1m Ai Message \u001b[0m==================================\n",
      "Tool Calls:\n",
      "  multiply (yjvgnydhn)\n",
      " Call ID: yjvgnydhn\n",
      "  Args:\n",
      "    a: 5\n",
      "    b: 5\n",
      "=================================\u001b[1m Tool Message \u001b[0m=================================\n",
      "Name: multiply\n",
      "\n",
      "25\n"
     ]
    }
   ],
   "source": [
    "response = graph.invoke({\"messages\":\"What is the 5 multiplation of 5\"})\n",
    "\n",
    "for msg in response['messages']:\n",
    "    msg.pretty_print()"
   ]
  },
  {
   "cell_type": "markdown",
   "id": "d7ee84e2",
   "metadata": {},
   "source": [
    "### ReAct Agent Architecture "
   ]
  },
  {
   "cell_type": "code",
   "execution_count": 132,
   "id": "8545ce1d",
   "metadata": {},
   "outputs": [
    {
     "data": {
      "image/png": "[encoded data removed]",
      "text/plain": [
       "<IPython.core.display.Image object>"
      ]
     },
     "metadata": {},
     "output_type": "display_data"
    }
   ],
   "source": [
    "## Build a graph\n",
    "builder = StateGraph(State)\n",
    "\n",
    "## Add nodes\n",
    "builder.add_node(\"tool_calling_llm\",tool_calling_llm)\n",
    "builder.add_node(\"tools\",ToolNode(tools))\n",
    "\n",
    "## Add Edges\n",
    "builder.add_edge(START,\"tool_calling_llm\")\n",
    "builder.add_conditional_edges(\n",
    "    \"tool_calling_llm\",\n",
    "    # If the latest (message) from the assistant is a tool call -> tools_condition routes to tool\n",
    "    # If the latest (message) from the assistant is not a tool call -> tools_condition routes to END\n",
    "    tools_condition\n",
    ")\n",
    "builder.add_edge(\"tools\",\"tool_calling_llm\")\n",
    "\n",
    "## Compile the graph\n",
    "graph = builder.compile()\n",
    "\n",
    "display(Image(graph.get_graph().draw_mermaid_png()))\n"
   ]
  },
  {
   "cell_type": "code",
   "execution_count": null,
   "id": "dea88245",
   "metadata": {},
   "outputs": [],
   "source": [
    "response = graph.invoke({\"messages\":\"Give me the recent AI news and then multiply 5 by 5\"})\n",
    "\n",
    "for msg in response['messages']:\n",
    "    msg.pretty_print()"
   ]
  },
  {
   "cell_type": "markdown",
   "id": "e02a2a5a",
   "metadata": {},
   "source": [
    "### Adding Memory In Agentic Graph"
   ]
  },
  {
   "cell_type": "code",
   "execution_count": null,
   "id": "b498c4de",
   "metadata": {},
   "outputs": [],
   "source": [
    "response = graph.invoke({\"messages\":\"Hello, My name is Agent Chatbot\"})\n",
    "\n",
    "for msg in response['messages']:\n",
    "    msg.pretty_print()"
   ]
  },
  {
   "cell_type": "code",
   "execution_count": null,
   "id": "6599de8b",
   "metadata": {},
   "outputs": [],
   "source": [
    "response = graph.invoke({\"messages\":\"What is my name?\"})\n",
    "\n",
    "for msg in response['messages']:\n",
    "    msg.pretty_print()"
   ]
  },
  {
   "cell_type": "code",
   "execution_count": 134,
   "id": "e4218a54",
   "metadata": {},
   "outputs": [
    {
     "data": {
      "image/png": "[encoded data removed]",
      "text/plain": [
       "<IPython.core.display.Image object>"
      ]
     },
     "metadata": {},
     "output_type": "display_data"
    }
   ],
   "source": [
    "from langgraph.checkpoint.memory import MemorySaver\n",
    "\n",
    "memory = MemorySaver()\n",
    "\n",
    "## Build a graph\n",
    "builder = StateGraph(State)\n",
    "\n",
    "## Add nodes\n",
    "builder.add_node(\"tool_calling_llm\",tool_calling_llm)\n",
    "builder.add_node(\"tools\",ToolNode(tools))\n",
    "\n",
    "## Add Edges\n",
    "builder.add_edge(START,\"tool_calling_llm\")\n",
    "builder.add_conditional_edges(\n",
    "    \"tool_calling_llm\",\n",
    "    # If the latest (message) from the assistant is a tool call -> tools_condition routes to tool\n",
    "    # If the latest (message) from the assistant is not a tool call -> tools_condition routes to END\n",
    "    tools_condition\n",
    ")\n",
    "builder.add_edge(\"tools\",\"tool_calling_llm\")\n",
    "\n",
    "## Compile the graph\n",
    "graph = builder.compile(checkpointer=memory)\n",
    "\n",
    "display(Image(graph.get_graph().draw_mermaid_png()))\n"
   ]
  },
  {
   "cell_type": "code",
   "execution_count": 135,
   "id": "2893cc98",
   "metadata": {},
   "outputs": [
    {
     "name": "stdout",
     "output_type": "stream",
     "text": [
      "================================\u001b[1m Human Message \u001b[0m=================================\n",
      "\n",
      "Hello, My name is Agent Chatbot\n",
      "==================================\u001b[1m Ai Message \u001b[0m==================================\n",
      "\n",
      "Nice to meet you, Agent Chatbot! I'm happy to assist you with any questions or tasks you may have. What would you like to talk about or accomplish today?\n"
     ]
    }
   ],
   "source": [
    "configration={\"configurable\":{\"thread_id\":\"1\"}}\n",
    "\n",
    "response = graph.invoke({\"messages\":\"Hello, My name is Agent Chatbot\"}, config=configration)\n",
    "\n",
    "for msg in response['messages']:\n",
    "    msg.pretty_print()"
   ]
  },
  {
   "cell_type": "code",
   "execution_count": null,
   "id": "376abbd1",
   "metadata": {},
   "outputs": [],
   "source": [
    "response = graph.invoke({\"messages\":\"What is my name\"}, config=configration)\n",
    "\n",
    "for msg in response['messages']:\n",
    "    msg.pretty_print()"
   ]
  },
  {
   "cell_type": "markdown",
   "id": "2ecb0b53",
   "metadata": {},
   "source": [
    "## Streaming"
   ]
  },
  {
   "cell_type": "code",
   "execution_count": null,
   "id": "4e976b57",
   "metadata": {},
   "outputs": [],
   "source": [
    "from langgraph.checkpoint.memory import MemorySaver\n",
    "memory = MemorySaver()"
   ]
  },
  {
   "cell_type": "code",
   "execution_count": null,
   "id": "25a52918",
   "metadata": {},
   "outputs": [],
   "source": [
    "def superbot(state:State):\n",
    "    return{\"messages\":[llm.invoke(state[\"messages\"])]}"
   ]
  },
  {
   "cell_type": "code",
   "execution_count": null,
   "id": "7cb3d81a",
   "metadata": {},
   "outputs": [],
   "source": [
    "## Build a graph\n",
    "builder = StateGraph(State)\n",
    "\n",
    "## Add nodes\n",
    "builder.add_node(\"superbot\",superbot)\n",
    "\n",
    "## Add Edges\n",
    "builder.add_edge(START,\"superbot\")\n",
    "builder.add_edge(\"superbot\",END)\n",
    "\n",
    "## Compile the graph\n",
    "graph = builder.compile(checkpointer=memory)\n",
    "\n",
    "from IPython.display import Image, display\n",
    "display(Image(graph.get_graph().draw_mermaid_png()))\n"
   ]
  },
  {
   "cell_type": "code",
   "execution_count": null,
   "id": "fd8136e0",
   "metadata": {},
   "outputs": [],
   "source": [
    "configration={\"configurable\":{\"thread_id\":\"1\"}}\n",
    "\n",
    "response = graph.invoke({\"messages\":\"Hello, My name is Agent and i like painting\"}, configration)\n",
    "\n",
    "for msg in response['messages']:\n",
    "    msg.pretty_print()"
   ]
  },
  {
   "cell_type": "code",
   "execution_count": null,
   "id": "b8068f86",
   "metadata": {},
   "outputs": [],
   "source": [
    "config={\"configurable\":{\"thread_id\":\"1\"}}\n",
    "\n",
    "for chunk in graph.stream({\"messages\":\"Hello, My name is Alley and i like painting\"}, config, stream_mode=\"updates\"):\n",
    "    print(chunk)"
   ]
  },
  {
   "cell_type": "code",
   "execution_count": null,
   "id": "45eeda0e",
   "metadata": {},
   "outputs": [],
   "source": [
    "config={\"configurable\":{\"thread_id\":\"1\"}}\n",
    "\n",
    "for chunk in graph.stream({\"messages\":\"Hello, My name is Alley and i like painting\"}, config, stream_mode=\"values\"):\n",
    "    print(chunk)"
   ]
  },
  {
   "cell_type": "code",
   "execution_count": null,
   "id": "25b3fa36",
   "metadata": {},
   "outputs": [],
   "source": [
    "configration={\"configurable\":{\"thread_id\":\"2\"}}\n",
    "\n",
    "for chunk in graph.stream({\"messages\":\"Hello, My name is Alley and i like swimming\"}, configration, stream_mode=\"updates\"):\n",
    "    print(chunk)"
   ]
  },
  {
   "cell_type": "code",
   "execution_count": null,
   "id": "4387ddb7",
   "metadata": {},
   "outputs": [],
   "source": [
    "for chunk in graph.stream({\"messages\":\"i also like volleyball\"}, configration, stream_mode=\"values\"):\n",
    "    print(chunk)"
   ]
  },
  {
   "cell_type": "code",
   "execution_count": null,
   "id": "002777d3",
   "metadata": {},
   "outputs": [],
   "source": [
    "config_5={\"configurable\":{\"thread_id\":\"5\"}}\n",
    "\n",
    "async for event in graph.astream_events({\"messages\":\"Hello, My name is Alley and i like swimming\"}, config_5, version=\"v2\"):\n",
    "    print(event)"
   ]
  },
  {
   "cell_type": "markdown",
   "id": "a15d275c",
   "metadata": {},
   "source": [
    "### Human in the Loop"
   ]
  },
  {
   "cell_type": "code",
   "execution_count": 136,
   "id": "b7c8d0d3",
   "metadata": {},
   "outputs": [
    {
     "data": {
      "text/plain": [
       "<langgraph.graph.state.StateGraph at 0x7cfa53122450>"
      ]
     },
     "execution_count": 136,
     "metadata": {},
     "output_type": "execute_result"
    }
   ],
   "source": [
    "from typing import Annotated\n",
    "from typing_extensions import TypedDict\n",
    "from langchain_tavily import TavilySearch\n",
    "from langchain_core.tools import tool\n",
    "\n",
    "from langgraph.checkpoint.memory import MemorySaver\n",
    "from langgraph.graph import StateGraph, START, END\n",
    "from langgraph.graph.message import add_messages\n",
    "from langgraph.prebuilt import ToolNode, tools_condition\n",
    "from langgraph.types import Command, interrupt\n",
    "\n",
    "class State(TypedDict):\n",
    "    messages: Annotated[list, add_messages]\n",
    "\n",
    "graph_builder = StateGraph(State)\n",
    "\n",
    "@tool\n",
    "def human_assistance(query:str)-> str:\n",
    "    \"\"\"Request assistance from a human\"\"\"\n",
    "    human_response = interrupt({\"query\" : query})\n",
    "    return human_response['data']\n",
    "\n",
    "tool = TavilySearch(max_results=2)\n",
    "tools = [tool, human_assistance]\n",
    "llm_with_tools1 = llm.bind_tools(tools)\n",
    "\n",
    "def chatbot(state: State):\n",
    "    message = llm_with_tools1.invoke(state['messages'])\n",
    "    # Because we will be interrupting during execution,\n",
    "    # we disable parallel tool calling to avoid repeat any\n",
    "    # tool invocations when it resumed\n",
    "\n",
    "    return {'messages':[message]}\n",
    "\n",
    "graph_builder.add_node(\"chatbot\", chatbot)\n",
    "\n",
    "tool_node = ToolNode(tools = tools)\n",
    "\n",
    "graph_builder.add_node(\"tools\",tool_node)\n",
    "\n",
    "graph_builder.add_conditional_edges(\n",
    "    \"chatbot\",\n",
    "    tools_condition\n",
    ")\n",
    "\n",
    "graph_builder.add_edge(START, \"chatbot\")\n",
    "graph_builder.add_edge(\"tools\",\"chatbot\")\n"
   ]
  },
  {
   "cell_type": "code",
   "execution_count": 137,
   "id": "619794ad",
   "metadata": {},
   "outputs": [
    {
     "data": {
      "image/png": "[encoded data removed]",
      "text/plain": [
       "<IPython.core.display.Image object>"
      ]
     },
     "metadata": {},
     "output_type": "display_data"
    }
   ],
   "source": [
    "## Compile the graph\n",
    "graph = graph_builder.compile(checkpointer=memory)\n",
    "\n",
    "from IPython.display import Image, display\n",
    "\n",
    "try:\n",
    "    display(Image(graph.get_graph().draw_mermaid_png()))\n",
    "except Exception:\n",
    "    pass"
   ]
  },
  {
   "cell_type": "code",
   "execution_count": 138,
   "id": "b0b118a7",
   "metadata": {},
   "outputs": [
    {
     "name": "stdout",
     "output_type": "stream",
     "text": [
      "================================\u001b[1m Human Message \u001b[0m=================================\n",
      "\n",
      "I need some expert guidance and assistance on building AI agent, Could you request assistance for me?\n",
      "==================================\u001b[1m Ai Message \u001b[0m==================================\n",
      "Tool Calls:\n",
      "  tavily_search (kxe4syvsv)\n",
      " Call ID: kxe4syvsv\n",
      "  Args:\n",
      "    query: expert guidance and assistance on building AI agent\n",
      "    topic: general\n",
      "=================================\u001b[1m Tool Message \u001b[0m=================================\n",
      "Name: tavily_search\n",
      "\n",
      "{\"query\": \"expert guidance and assistance on building AI agent\", \"follow_up_questions\": null, \"answer\": null, \"images\": [], \"results\": [{\"title\": \"How to Build an AI Agent: Step-by-Step Guide | Anjin AI Insights\", \"url\": \"https://www.anjin.digital/blog-posts/how-to-build-an-ai-agent-guide\", \"content\": \"Learn how to build an AI agent from scratch using cutting-edge techniques. This expert guide explores tools, architecture, use cases and deployment, optimised for search and generative engines.\", \"score\": 0.7938904, \"raw_content\": null}, {\"title\": \"How to Build an AI Agent That Actually Works In 2025\", \"url\": \"https://persana.ai/blogs/how-to-build-an-ai-agent\", \"content\": \"How to Build an AI Agent That Actually Works In 2025 - Persana AI Image 1: How to Build an AI Agent How to Build an AI Agent That Actually Works In 2025 **What is an AI agent?** **Effective AI agents** need three categories of tools: **Build and train your own AI agent With Persana** Persana provides a complete platform to build and **fine-tune AI agents** that work well in real-life environments. Building an AI agent that works in 2025 needs more than just the latest technology. > Persana.ai offers the detailed platform you need to build, train, and deploy AI agents that deliver ground results in complex business settings.\", \"score\": 0.51383984, \"raw_content\": null}], \"response_time\": 1.71}\n",
      "==================================\u001b[1m Ai Message \u001b[0m==================================\n",
      "\n",
      "Based on the results from the tool call id \"kxe4syvsv\", I would like to request further assistance from the user to provide more context and clarify their needs.\n",
      "\n",
      "Please provide more information about what kind of expert guidance and assistance you are looking for in building an AI agent. For example, what specific areas of AI agent development are you struggling with? Are you looking for help with choosing the right tools, designing the architecture, or implementing the AI agent?\n",
      "\n",
      "Additionally, please let me know if you would like to explore any of the search results provided by the tool call id \"kxe4syvsv\", such as the articles \"How to Build an AI Agent: Step-by-Step Guide | Anjin AI Insights\" or \"How to Build an AI Agent That Actually Works In 2025\".\n"
     ]
    }
   ],
   "source": [
    "user_input = \"I need some expert guidance and assistance on building AI agent, Could you request assistance for me?\"\n",
    "config_2 = {\"configurable\":{\"thread_id\":15}}\n",
    "\n",
    "\n",
    "events = graph.stream(\n",
    "    {\"messages\" : user_input},\n",
    "    config_2,\n",
    "    stream_mode='values',\n",
    ")\n",
    "\n",
    "for event in events:\n",
    "    if \"messages\" in event:\n",
    "        event[\"messages\"][-1].pretty_print()"
   ]
  },
  {
   "cell_type": "code",
   "execution_count": 140,
   "id": "801d5114",
   "metadata": {},
   "outputs": [
    {
     "name": "stdout",
     "output_type": "stream",
     "text": [
      "==================================\u001b[1m Ai Message \u001b[0m==================================\n",
      "\n",
      "Based on the results from the tool call id \"kxe4syvsv\", I would like to request further assistance from the user to provide more context and clarify their needs.\n",
      "\n",
      "Please provide more information about what kind of expert guidance and assistance you are looking for in building an AI agent. For example, what specific areas of AI agent development are you struggling with? Are you looking for help with choosing the right tools, designing the architecture, or implementing the AI agent?\n",
      "\n",
      "Additionally, please let me know if you would like to explore any of the search results provided by the tool call id \"kxe4syvsv\", such as the articles \"How to Build an AI Agent: Step-by-Step Guide | Anjin AI Insights\" or \"How to Build an AI Agent That Actually Works In 2025\".\n"
     ]
    }
   ],
   "source": [
    "human_response = (\n",
    "    \"We the experts are here to help you, We'd recommend yoy to check the Langgraph to build your agent.\"\n",
    "    \"It's much more reliable and extensible than simple autonomus agents.\"\n",
    ")\n",
    "\n",
    "human_command = Command(resume={\"data\":human_response})\n",
    "\n",
    "events = graph.stream(human_command, config_2, stream_mode=\"values\")\n",
    "for event in events:\n",
    "    if \"messages\" in event:\n",
    "        event[\"messages\"][-1].pretty_print()"
   ]
  }
 ],
 "metadata": {
  "kernelspec": {
   "display_name": ".venv",
   "language": "python",
   "name": "python3"
  },
  "language_info": {
   "codemirror_mode": {
    "name": "ipython",
    "version": 3
   },
   "file_extension": ".py",
   "mimetype": "text/x-python",
   "name": "python",
   "nbconvert_exporter": "python",
   "pygments_lexer": "ipython3",
   "version": "3.12.1"
  }
 },
 "nbformat": 4,
 "nbformat_minor": 5
}
